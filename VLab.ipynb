{
  "nbformat": 4,
  "nbformat_minor": 0,
  "metadata": {
    "colab": {
      "name": "VLab.ipynb",
      "provenance": [],
      "collapsed_sections": []
    },
    "kernelspec": {
      "name": "python3",
      "display_name": "Python 3"
    },
    "language_info": {
      "name": "python"
    }
  },
  "cells": [
    {
      "cell_type": "markdown",
      "source": [
        "Cloning repository"
      ],
      "metadata": {
        "id": "LzibVuTZCT8_"
      }
    },
    {
      "cell_type": "code",
      "execution_count": 3,
      "metadata": {
        "id": "BUh8YCM-6yAi",
        "colab": {
          "base_uri": "https://localhost:8080/"
        },
        "outputId": "2970eaf9-9c67-4d8d-ed63-1f588770ea4b"
      },
      "outputs": [
        {
          "output_type": "stream",
          "name": "stdout",
          "text": [
            "Cloning into 'VirtusLab_task'...\n",
            "remote: Enumerating objects: 31, done.\u001b[K\n",
            "remote: Counting objects: 100% (31/31), done.\u001b[K\n",
            "remote: Compressing objects: 100% (26/26), done.\u001b[K\n",
            "remote: Total 31 (delta 9), reused 18 (delta 2), pack-reused 0\u001b[K\n",
            "Unpacking objects: 100% (31/31), done.\n"
          ]
        }
      ],
      "source": [
        "!git clone --branch dev https://github.com/mjasak/VirtusLab_task"
      ]
    },
    {
      "cell_type": "code",
      "source": [
        "%cd /content/VirtusLab_task"
      ],
      "metadata": {
        "id": "KrHrtz_M8vRz",
        "colab": {
          "base_uri": "https://localhost:8080/"
        },
        "outputId": "170d645f-c4e8-4dd0-fd6a-b66080b35cb1"
      },
      "execution_count": 4,
      "outputs": [
        {
          "output_type": "stream",
          "name": "stdout",
          "text": [
            "/content/VirtusLab_task\n"
          ]
        }
      ]
    },
    {
      "cell_type": "markdown",
      "source": [
        "Example use for printing results\n"
      ],
      "metadata": {
        "id": "XhLITAl5CJwj"
      }
    },
    {
      "cell_type": "code",
      "source": [
        "%%bash\n",
        "source initialize.sh\n",
        "join ./examples/employees.csv ./examples/departments.csv department_id"
      ],
      "metadata": {
        "id": "_L9uXF6UCE7v"
      },
      "execution_count": null,
      "outputs": []
    },
    {
      "cell_type": "markdown",
      "source": [
        "Example use piping results into csv file"
      ],
      "metadata": {
        "id": "njPT3Z-dCOfQ"
      }
    },
    {
      "cell_type": "code",
      "source": [
        "%%bash\n",
        "source initialize.sh\n",
        "join ./examples/employees.csv ./examples/departments.csv department_id > results.csv"
      ],
      "metadata": {
        "id": "imPPR43y_39k"
      },
      "execution_count": null,
      "outputs": []
    }
  ]
}